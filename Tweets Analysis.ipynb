{
 "cells": [
  {
   "cell_type": "code",
   "execution_count": 76,
   "metadata": {},
   "outputs": [
    {
     "name": "stdout",
     "output_type": "stream",
     "text": [
      "Precision: 0.2375910746812386\n",
      "Recall: 0.3333333333333333\n"
     ]
    },
    {
     "name": "stderr",
     "output_type": "stream",
     "text": [
      "/usr/local/lib/python3.7/site-packages/sklearn/ensemble/forest.py:246: FutureWarning: The default value of n_estimators will change from 10 in version 0.20 to 100 in 0.22.\n",
      "  \"10 in version 0.20 to 100 in 0.22.\", FutureWarning)\n",
      "/usr/local/lib/python3.7/site-packages/sklearn/metrics/classification.py:1143: UndefinedMetricWarning: Precision is ill-defined and being set to 0.0 in labels with no predicted samples.\n",
      "  'precision', 'predicted', average, warn_for)\n"
     ]
    }
   ],
   "source": [
    "import pandas as pd\n",
    "import numpy as np\n",
    "from sklearn.ensemble import RandomForestClassifier\n",
    "from sklearn.feature_extraction.text import TfidfVectorizer\n",
    "import matplotlib.pyplot as plt\n",
    "\n",
    "from sklearn.metrics import recall_score\n",
    "from sklearn.metrics import precision_score\n",
    "\n",
    "tfidf = TfidfVectorizer(sublinear_tf=True, min_df=5, norm='l2', encoding='latin-1', ngram_range=(1, 2), stop_words='english')\n",
    "\n",
    "tweets = pd.read_csv('twitter-airline-sentiment/Tweets.csv')\n",
    "rfc = RandomForestClassifier(max_depth=2, random_state=0)\n",
    "\n",
    "tweets_text = tweets['text']\n",
    "tweets_text = tfidf.fit_transform(tweets_text)\n",
    "tweets_training_x = tweets_text[:int(len(tweets) * .8)]\n",
    "tweets_testing_x = tweets_text[int(len(tweets) * .8):]\n",
    "tweets_training_y = tweets['airline_sentiment'][:int(len(tweets) * .8)]\n",
    "tweets_testing_y = tweets['airline_sentiment'][int(len(tweets) * .8):]\n",
    "\n",
    "rfc.fit(tweets_training_x, tweets_training_y)\n",
    "\n",
    "\n",
    "prediction = rfc.predict(tweets_testing_x)\n",
    "rfc.score(tweets_testing_x, tweets_testing_y)\n",
    "\n",
    "p_score = precision_score(tweets_testing_y, prediction, average='macro')\n",
    "r_score = recall_score(tweets_testing_y, prediction, average='macro')\n",
    "print('Precision: ' + str(p_score))\n",
    "print('Recall: ' + str(r_score))\n"
   ]
  },
  {
   "cell_type": "code",
   "execution_count": null,
   "metadata": {},
   "outputs": [],
   "source": []
  }
 ],
 "metadata": {
  "kernelspec": {
   "display_name": "Python 3",
   "language": "python",
   "name": "python3"
  },
  "language_info": {
   "codemirror_mode": {
    "name": "ipython",
    "version": 3
   },
   "file_extension": ".py",
   "mimetype": "text/x-python",
   "name": "python",
   "nbconvert_exporter": "python",
   "pygments_lexer": "ipython3",
   "version": "3.7.4"
  }
 },
 "nbformat": 4,
 "nbformat_minor": 2
}
